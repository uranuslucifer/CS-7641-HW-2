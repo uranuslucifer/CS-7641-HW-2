{
 "cells": [
  {
   "cell_type": "code",
   "execution_count": 26,
   "metadata": {},
   "outputs": [],
   "source": [
    "import matplotlib.pyplot as plt\n",
    "import mlrose_hiive\n",
    "import numpy as np\n",
    "import pandas as pd\n",
    "import time\n",
    "import itertools"
   ]
  },
  {
   "cell_type": "code",
   "execution_count": 27,
   "metadata": {},
   "outputs": [],
   "source": [
    "# Fitness Functions\n",
    "fitness_functions = [('4PP', mlrose_hiive.FourPeaks()), ('CPP', mlrose_hiive.ContinuousPeaks()), ('FFP',mlrose_hiive.FlipFlop())]"
   ]
  },
  {
   "cell_type": "code",
   "execution_count": null,
   "metadata": {},
   "outputs": [],
   "source": [
    "# # Fitness Functions\n",
    "# fitness_functions = [('CPP', mlrose_hiive.ContinuousPeaks()), ('FFP',mlrose_hiive.FlipFlop()), ('NQP', mlrose_hiive.Queens())]"
   ]
  },
  {
   "cell_type": "code",
   "execution_count": 28,
   "metadata": {},
   "outputs": [
    {
     "name": "stdout",
     "output_type": "stream",
     "text": [
      "For 4PP fitness function: \n",
      "Best RHC parameters for 4PP = 50\n",
      "For CPP fitness function: \n",
      "Best RHC parameters for CPP = 50\n",
      "For FFP fitness function: \n",
      "Best RHC parameters for FFP = 50\n"
     ]
    }
   ],
   "source": [
    "# RHC tuning\n",
    "\n",
    "best_restart_param = None\n",
    "best_restart_fitness_value = None\n",
    "for func in fitness_functions:\n",
    "    fitness_function = func[1]\n",
    "    print(\"For \" + str(func[0]) + \" fitness function: \")\n",
    "    for i in [0, 25, 50, 75, 100, 125, 150]:\n",
    "        problem = mlrose_hiive.DiscreteOpt(length=100, fitness_fn=fitness_function, maximize=True)\n",
    "        rhc_best_state, rhc_best_fitness, rhc_fitness_curve = mlrose_hiive.random_hill_climb(problem, \n",
    "                                                                                            max_attempts=300, \n",
    "                                                                                            max_iters=300, \n",
    "                                                                                            curve=True, \n",
    "                                                                                            random_state=36,\n",
    "                                                                                            restarts=i)\n",
    "        if not best_restart_fitness_value:\n",
    "            best_restart_param = i\n",
    "            best_restart_fitness_value = rhc_best_fitness\n",
    "        elif rhc_best_fitness > best_restart_fitness_value:\n",
    "            best_restart_param = i\n",
    "            best_restart_fitness_value = rhc_best_fitness\n",
    "    print(\"Best RHC parameters for {} = {}\".format(func[0], str(best_restart_param)))"
   ]
  },
  {
   "cell_type": "code",
   "execution_count": 29,
   "metadata": {},
   "outputs": [
    {
     "name": "stdout",
     "output_type": "stream",
     "text": [
      "For 4PP fitness function: \n",
      "Best SA parameters for 4PP = (1, 0.001, 0.001)\n",
      "For CPP fitness function: \n",
      "Best SA parameters for CPP = (30, 0.1, 0.5)\n",
      "For FFP fitness function: \n",
      "Best SA parameters for FFP = (30, 0.1, 0.5)\n"
     ]
    }
   ],
   "source": [
    "# SA Tuning\n",
    "\n",
    "SA_hyperparams = [\n",
    "   [1, 5, 10, 20, 30, 50, 70],\n",
    "   [0.001, 0.005, 0.01, 0.05, 0.1],\n",
    "   [0.001, 0.005, 0.01, 0.05, 0.1, 0.5, 1]\n",
    "]\n",
    "\n",
    "best_param = None\n",
    "best_fitness_value = None\n",
    "for func in fitness_functions:\n",
    "    fitness_function = func[1]\n",
    "    print(\"For \" + str(func[0]) + \" fitness function: \")\n",
    "    for i in itertools.product(*SA_hyperparams):\n",
    "        problem = mlrose_hiive.DiscreteOpt(length=100, fitness_fn=fitness_function, maximize=True)\n",
    "        decay = mlrose_hiive.ExpDecay(init_temp=i[0], exp_const=i[1], min_temp=i[2])\n",
    "        sa_best_state, sa_best_fitness, sa_fitness_curve = mlrose_hiive.simulated_annealing(\n",
    "                                                    problem, \n",
    "                                                    max_attempts=300, \n",
    "                                                    max_iters=300, \n",
    "                                                    curve=True, \n",
    "                                                    random_state=36,\n",
    "                                                    schedule=decay)\n",
    "        if not best_fitness_value:\n",
    "            best_param = i\n",
    "            best_fitness_value = sa_best_fitness\n",
    "        elif sa_best_fitness > best_fitness_value:\n",
    "            best_param = i\n",
    "            best_fitness_value = sa_best_fitness\n",
    "    print(\"Best SA parameters for {} = {}\".format(func[0], str(best_param)))"
   ]
  },
  {
   "cell_type": "code",
   "execution_count": 30,
   "metadata": {},
   "outputs": [
    {
     "name": "stdout",
     "output_type": "stream",
     "text": [
      "For 4PP fitness function: \n",
      "Best parameters for 4PP = (100, 0.4)\n",
      "For CPP fitness function: \n",
      "Best parameters for CPP = (100, 0.5)\n",
      "For FFP fitness function: \n",
      "Best parameters for FFP = (100, 0.3)\n"
     ]
    }
   ],
   "source": [
    "# GA Tuning\n",
    "\n",
    "GA_hyperparams = [\n",
    "   [100, 200, 300, 400],\n",
    "   [0.2, 0.3, 0.4, 0.5, 0.6]\n",
    "]\n",
    "\n",
    "best_param = None\n",
    "best_fitness_value = None\n",
    "for func in fitness_functions:\n",
    "    fitness_function = func[1]\n",
    "    print(\"For \" + str(func[0]) + \" fitness function: \")\n",
    "    best_param = None\n",
    "    best_fitness_value = None\n",
    "    for i in itertools.product(*GA_hyperparams):\n",
    "        problem = mlrose_hiive.DiscreteOpt(length=100, fitness_fn=fitness_function, maximize=True)\n",
    "        ga_best_state, ga_best_fitness, ga_fitness_curve = mlrose_hiive.genetic_alg(\n",
    "                                                    problem, \n",
    "                                                    max_attempts=300, \n",
    "                                                    max_iters=300, \n",
    "                                                    curve=True, \n",
    "                                                    random_state=36,\n",
    "                                                    pop_size=i[0],\n",
    "                                                    mutation_prob=i[1])\n",
    "        if not best_fitness_value:\n",
    "            best_param = i\n",
    "            best_fitness_value = ga_best_fitness\n",
    "        elif ga_best_fitness > best_fitness_value:\n",
    "            best_param = i\n",
    "            best_fitness_value = ga_best_fitness\n",
    "    print(\"Best parameters for {} = {}\".format(func[0], str(best_param)))"
   ]
  },
  {
   "cell_type": "code",
   "execution_count": 31,
   "metadata": {},
   "outputs": [
    {
     "name": "stdout",
     "output_type": "stream",
     "text": [
      "For 4PP fitness function: \n",
      "Best parameters for 4PP = (200, 0.2)\n",
      "For CPP fitness function: \n",
      "Best parameters for CPP = (300, 0.3)\n",
      "For FFP fitness function: \n",
      "Best parameters for FFP = (300, 0.4)\n"
     ]
    }
   ],
   "source": [
    "# MIMIC Tuning\n",
    "\n",
    "GA_hyperparams = [\n",
    "   [100, 200, 300, 400],\n",
    "   [0.2, 0.3, 0.4, 0.5, 0.6]\n",
    "]\n",
    "\n",
    "best_param = None\n",
    "best_fitness_value = None\n",
    "for func in fitness_functions:\n",
    "    fitness_function = func[1]\n",
    "    print(\"For \" + str(func[0]) + \" fitness function: \")\n",
    "    best_param = None\n",
    "    best_fitness_value = None\n",
    "    for i in itertools.product(*GA_hyperparams):\n",
    "        problem = mlrose_hiive.DiscreteOpt(length=100, fitness_fn=fitness_function, maximize=True)\n",
    "        mimic_best_state, mimic_best_fitness, mimic_fitness_curve = mlrose_hiive.mimic(\n",
    "                                                            problem, \n",
    "                                                            max_attempts = 300, \n",
    "                                                            max_iters = 300,  \n",
    "                                                            curve = True, \n",
    "                                                            random_state = 36,\n",
    "                                                            pop_size = i[0],\n",
    "                                                            keep_pct = i[1])\n",
    "        if not best_fitness_value:\n",
    "            best_param = i\n",
    "            best_fitness_value = mimic_best_fitness\n",
    "        elif mimic_best_fitness > best_fitness_value:\n",
    "            best_param = i\n",
    "            best_fitness_value = mimic_best_fitness\n",
    "    print(\"Best parameters for {} = {}\".format(func[0], str(best_param)))"
   ]
  },
  {
   "cell_type": "code",
   "execution_count": null,
   "metadata": {},
   "outputs": [],
   "source": []
  }
 ],
 "metadata": {
  "kernelspec": {
   "display_name": "Python 3",
   "language": "python",
   "name": "python3"
  },
  "language_info": {
   "codemirror_mode": {
    "name": "ipython",
    "version": 3
   },
   "file_extension": ".py",
   "mimetype": "text/x-python",
   "name": "python",
   "nbconvert_exporter": "python",
   "pygments_lexer": "ipython3",
   "version": "3.10.7"
  },
  "orig_nbformat": 4
 },
 "nbformat": 4,
 "nbformat_minor": 2
}
